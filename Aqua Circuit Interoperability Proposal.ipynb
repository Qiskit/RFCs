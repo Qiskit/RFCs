{
 "cells": [
  {
   "cell_type": "markdown",
   "metadata": {},
   "source": [
    "# Aqua Circuit Interoperability Update\n",
    "\n",
    "_Donny Greenberg, Julien Gacon, Ali Javadi, Steve Wood, 24-Mar-19_"
   ]
  },
  {
   "cell_type": "markdown",
   "metadata": {},
   "source": [
    "## Basic Vision & End Goal\n",
    "\n",
    "* Make Aqua use circuits as a first-class currency, and feel more like an algorithms library _next to_ Terra, as users expect, rather than an independent library on top of it\n",
    "    * No more `construct_circuit()` wrappers in Aqua\n",
    "* Promote Aqua’s best circuity features into Terra to be broadly useful"
   ]
  },
  {
   "cell_type": "markdown",
   "metadata": {},
   "source": [
    "## Proposal - Three steps\n",
    "\n",
    "1. Circuit as a First-class Citizen in Aqua\n",
    "    1. Aqua algorithms accept circuits directly, no more circuit wrappers\n",
    "1. Circuit Library with Enhanced QuantumCircuit Families and Convenient Prebuilts\n",
    "    1. Destination for most of Aqua's enhanced circuit wrappers\n",
    "    1. Critically, allows for lazily constructed circuit placeholders.\n",
    "1. Usability Improvements to Promote up to QuantumCircuit\n",
    "    1. Make circuit construction in Terra more powerful with features in Aqua users like"
   ]
  },
  {
   "cell_type": "markdown",
   "metadata": {},
   "source": [
    "## 1. Circuit as a First-class Citizen in Aqua\n",
    "\n",
    "* Anywhere previously calling `construct_circuit` now accepts circuits as-is, no questions asked\n",
    "* Typehints ask for a circuit, and are indifferent whether a circuit is from the circuit library (below)\n",
    "* Fully backwards compatible with Aqua's `construct_circuit`-based objects as long as we like\n",
    "* Maybe warnings where behavior is strange, e.g. no parameters in VQE ansatz"
   ]
  },
  {
   "cell_type": "markdown",
   "metadata": {},
   "source": [
    "### Demo - VQC with newly built circuits\n",
    "\n",
    "Below, we demonstrate the execution of the Variational Quantum Classifier using no special circuit construction objects."
   ]
  },
  {
   "cell_type": "code",
   "execution_count": 5,
   "metadata": {
    "ExecuteTime": {
     "end_time": "2020-03-24T12:28:27.868954Z",
     "start_time": "2020-03-24T12:28:27.865079Z"
    }
   },
   "outputs": [],
   "source": [
    "from qiskit import QuantumCircuit\n",
    "from qiskit.circuit import ParameterVector\n",
    "from qiskit.aqua.algorithms import VQC\n",
    "from qiskit.aqua.components.optimizers import SLSQP\n",
    "\n",
    "import numpy as np\n",
    "import itertools"
   ]
  },
  {
   "cell_type": "code",
   "execution_count": 2,
   "metadata": {
    "ExecuteTime": {
     "end_time": "2020-03-24T12:28:24.170106Z",
     "start_time": "2020-03-24T12:28:24.165856Z"
    }
   },
   "outputs": [
    {
     "name": "stdout",
     "output_type": "stream",
     "text": [
      "{1: [1.0, 0.0, 0.0], 2: [0.0, 1.0, 0.0], 3: [0.0, 0.0, 1.0]}\n"
     ]
    }
   ],
   "source": [
    "# Learning the one-hot encoding\n",
    "train_feats = np.eye(3).tolist()\n",
    "train_labels = [1,2,3]\n",
    "train = dict(zip(train_labels, train_feats))\n",
    "print(train)"
   ]
  },
  {
   "cell_type": "code",
   "execution_count": 3,
   "metadata": {
    "ExecuteTime": {
     "end_time": "2020-03-24T12:28:24.203037Z",
     "start_time": "2020-03-24T12:28:24.172902Z"
    }
   },
   "outputs": [
    {
     "data": {
      "text/html": [
       "<pre style=\"word-wrap: normal;white-space: pre;background: #fff0;line-height: 1.1;font-family: &quot;Courier New&quot;,Courier,monospace\">        ┌───┐┌──────────┐                                                    ░ ┌───┐┌──────────┐                                                    ░ ┌───┐┌──────────┐                                                    ░ \n",
       "q_0: |0>┤ H ├┤ Rz(ɸ[0]) ├────────■────────────────■──────────────────────────░─┤ H ├┤ Rz(ɸ[0]) ├────────■────────────────■──────────────────────────░─┤ H ├┤ Rz(ɸ[0]) ├────────■────────────────■──────────────────────────░─\n",
       "        ├───┤├──────────┤┌───────┴───────┐        │                          ░ ├───┤├──────────┤┌───────┴───────┐        │                          ░ ├───┤├──────────┤┌───────┴───────┐        │                          ░ \n",
       "q_1: |0>┤ H ├┤ Rz(ɸ[1]) ├┤ Rz(ɸ[0]*ɸ[1]) ├────────┼────────────────■─────────░─┤ H ├┤ Rz(ɸ[1]) ├┤ Rz(ɸ[0]*ɸ[1]) ├────────┼────────────────■─────────░─┤ H ├┤ Rz(ɸ[1]) ├┤ Rz(ɸ[0]*ɸ[1]) ├────────┼────────────────■─────────░─\n",
       "        ├───┤├──────────┤└───────────────┘┌───────┴───────┐┌───────┴───────┐ ░ ├───┤├──────────┤└───────────────┘┌───────┴───────┐┌───────┴───────┐ ░ ├───┤├──────────┤└───────────────┘┌───────┴───────┐┌───────┴───────┐ ░ \n",
       "q_2: |0>┤ H ├┤ Rz(ɸ[2]) ├─────────────────┤ Rz(ɸ[0]*ɸ[2]) ├┤ Rz(ɸ[1]*ɸ[2]) ├─░─┤ H ├┤ Rz(ɸ[2]) ├─────────────────┤ Rz(ɸ[0]*ɸ[2]) ├┤ Rz(ɸ[1]*ɸ[2]) ├─░─┤ H ├┤ Rz(ɸ[2]) ├─────────────────┤ Rz(ɸ[0]*ɸ[2]) ├┤ Rz(ɸ[1]*ɸ[2]) ├─░─\n",
       "        └───┘└──────────┘                 └───────────────┘└───────────────┘ ░ └───┘└──────────┘                 └───────────────┘└───────────────┘ ░ └───┘└──────────┘                 └───────────────┘└───────────────┘ ░ </pre>"
      ],
      "text/plain": [
       "        ┌───┐┌──────────┐                                                    ░ ┌───┐┌──────────┐                                                    ░ ┌───┐┌──────────┐                                                    ░ \n",
       "q_0: |0>┤ H ├┤ Rz(ɸ[0]) ├────────■────────────────■──────────────────────────░─┤ H ├┤ Rz(ɸ[0]) ├────────■────────────────■──────────────────────────░─┤ H ├┤ Rz(ɸ[0]) ├────────■────────────────■──────────────────────────░─\n",
       "        ├───┤├──────────┤┌───────┴───────┐        │                          ░ ├───┤├──────────┤┌───────┴───────┐        │                          ░ ├───┤├──────────┤┌───────┴───────┐        │                          ░ \n",
       "q_1: |0>┤ H ├┤ Rz(ɸ[1]) ├┤ Rz(ɸ[0]*ɸ[1]) ├────────┼────────────────■─────────░─┤ H ├┤ Rz(ɸ[1]) ├┤ Rz(ɸ[0]*ɸ[1]) ├────────┼────────────────■─────────░─┤ H ├┤ Rz(ɸ[1]) ├┤ Rz(ɸ[0]*ɸ[1]) ├────────┼────────────────■─────────░─\n",
       "        ├───┤├──────────┤└───────────────┘┌───────┴───────┐┌───────┴───────┐ ░ ├───┤├──────────┤└───────────────┘┌───────┴───────┐┌───────┴───────┐ ░ ├───┤├──────────┤└───────────────┘┌───────┴───────┐┌───────┴───────┐ ░ \n",
       "q_2: |0>┤ H ├┤ Rz(ɸ[2]) ├─────────────────┤ Rz(ɸ[0]*ɸ[2]) ├┤ Rz(ɸ[1]*ɸ[2]) ├─░─┤ H ├┤ Rz(ɸ[2]) ├─────────────────┤ Rz(ɸ[0]*ɸ[2]) ├┤ Rz(ɸ[1]*ɸ[2]) ├─░─┤ H ├┤ Rz(ɸ[2]) ├─────────────────┤ Rz(ɸ[0]*ɸ[2]) ├┤ Rz(ɸ[1]*ɸ[2]) ├─░─\n",
       "        └───┘└──────────┘                 └───────────────┘└───────────────┘ ░ └───┘└──────────┘                 └───────────────┘└───────────────┘ ░ └───┘└──────────┘                 └───────────────┘└───────────────┘ ░ "
      ]
     },
     "execution_count": 3,
     "metadata": {},
     "output_type": "execute_result"
    }
   ],
   "source": [
    "feat_params = ParameterVector('ɸ', length=len(train_feats[0]))\n",
    "feat_map = QuantumCircuit(3)\n",
    "depth = 3\n",
    "for _ in range(depth):\n",
    "    feat_map.h(qubit=range(3))\n",
    "    [feat_map.rz(phi=p, qubit=i) for i, p in enumerate(feat_params)]\n",
    "    [feat_map.crz(theta=p1*p2, control_qubit=q1, target_qubit=q2) \n",
    "         for ((q1, p1), (q2,p2)) in itertools.combinations(enumerate(feat_params), 2)]\n",
    "    feat_map.barrier()\n",
    "feat_map.draw(fold=1000)"
   ]
  },
  {
   "cell_type": "code",
   "execution_count": 4,
   "metadata": {
    "ExecuteTime": {
     "end_time": "2020-03-24T12:28:24.231074Z",
     "start_time": "2020-03-24T12:28:24.207035Z"
    }
   },
   "outputs": [
    {
     "data": {
      "text/html": [
       "<pre style=\"word-wrap: normal;white-space: pre;background: #fff0;line-height: 1.1;font-family: &quot;Courier New&quot;,Courier,monospace\">        ┌──────────┐                                     ░ ┌──────────┐                                        ░ ┌───────────┐                                        ░ \n",
       "q_0: |0>┤ Ry(θ[1]) ├─────■───────────■───────────────────░─┤ Ry(θ[7]) ├──────■────────────■────────────────────░─┤ Ry(θ[13]) ├──────■────────────■────────────────────░─\n",
       "        ├──────────┤┌────┴─────┐     │                   ░ ├──────────┤┌─────┴─────┐      │                    ░ ├───────────┤┌─────┴─────┐      │                    ░ \n",
       "q_1: |0>┤ Ry(θ[2]) ├┤ Rx(θ[4]) ├─────┼───────────■───────░─┤ Ry(θ[8]) ├┤ Rx(θ[10]) ├──────┼────────────■───────░─┤ Ry(θ[14]) ├┤ Rx(θ[16]) ├──────┼────────────■───────░─\n",
       "        ├──────────┤└──────────┘┌────┴─────┐┌────┴─────┐ ░ ├──────────┤└───────────┘┌─────┴─────┐┌─────┴─────┐ ░ ├───────────┤└───────────┘┌─────┴─────┐┌─────┴─────┐ ░ \n",
       "q_2: |0>┤ Ry(θ[3]) ├────────────┤ Rx(θ[5]) ├┤ Rx(θ[6]) ├─░─┤ Ry(θ[9]) ├─────────────┤ Rx(θ[11]) ├┤ Rx(θ[12]) ├─░─┤ Ry(θ[15]) ├─────────────┤ Rx(θ[17]) ├┤ Rx(θ[18]) ├─░─\n",
       "        └──────────┘            └──────────┘└──────────┘ ░ └──────────┘             └───────────┘└───────────┘ ░ └───────────┘             └───────────┘└───────────┘ ░ </pre>"
      ],
      "text/plain": [
       "        ┌──────────┐                                     ░ ┌──────────┐                                        ░ ┌───────────┐                                        ░ \n",
       "q_0: |0>┤ Ry(θ[1]) ├─────■───────────■───────────────────░─┤ Ry(θ[7]) ├──────■────────────■────────────────────░─┤ Ry(θ[13]) ├──────■────────────■────────────────────░─\n",
       "        ├──────────┤┌────┴─────┐     │                   ░ ├──────────┤┌─────┴─────┐      │                    ░ ├───────────┤┌─────┴─────┐      │                    ░ \n",
       "q_1: |0>┤ Ry(θ[2]) ├┤ Rx(θ[4]) ├─────┼───────────■───────░─┤ Ry(θ[8]) ├┤ Rx(θ[10]) ├──────┼────────────■───────░─┤ Ry(θ[14]) ├┤ Rx(θ[16]) ├──────┼────────────■───────░─\n",
       "        ├──────────┤└──────────┘┌────┴─────┐┌────┴─────┐ ░ ├──────────┤└───────────┘┌─────┴─────┐┌─────┴─────┐ ░ ├───────────┤└───────────┘┌─────┴─────┐┌─────┴─────┐ ░ \n",
       "q_2: |0>┤ Ry(θ[3]) ├────────────┤ Rx(θ[5]) ├┤ Rx(θ[6]) ├─░─┤ Ry(θ[9]) ├─────────────┤ Rx(θ[11]) ├┤ Rx(θ[12]) ├─░─┤ Ry(θ[15]) ├─────────────┤ Rx(θ[17]) ├┤ Rx(θ[18]) ├─░─\n",
       "        └──────────┘            └──────────┘└──────────┘ ░ └──────────┘             └───────────┘└───────────┘ ░ └───────────┘             └───────────┘└───────────┘ ░ "
      ]
     },
     "execution_count": 4,
     "metadata": {},
     "output_type": "execute_result"
    }
   ],
   "source": [
    "# Note: I need to calculate this number\n",
    "classifier_params = ParameterVector('θ', length=19)\n",
    "classifier = QuantumCircuit(3)\n",
    "depth = 3\n",
    "cp_iter = iter(classifier_params)\n",
    "next(cp_iter)\n",
    "for _ in range(depth):\n",
    "    [classifier.ry(theta=next(cp_iter), qubit=j) for j in classifier.qubits]\n",
    "    [classifier.crx(theta=next(cp_iter), control_qubit=q1, target_qubit=q2) \n",
    "         for (q1, q2) in itertools.combinations(classifier.qubits, 2)]\n",
    "    classifier.barrier()\n",
    "classifier.draw(fold=1000)"
   ]
  },
  {
   "cell_type": "code",
   "execution_count": null,
   "metadata": {
    "ExecuteTime": {
     "end_time": "2020-03-24T12:08:23.904679Z",
     "start_time": "2020-03-24T12:08:23.880976Z"
    },
    "scrolled": true
   },
   "outputs": [],
   "source": [
    "vqc = VQC(optimizer=SLSQP(), feature_map=feat_map, var_form=classifier, training_dataset=train, test_dataset=train)\n",
    "vqc.run()"
   ]
  },
  {
   "cell_type": "markdown",
   "metadata": {},
   "source": [
    "## 2. Circuit Library with Enhanced Flexibility Circuits and Convenient Prebuilts\n",
    "\n",
    "_Proposal: Move Aqua's circuit-constructor objects - e.g. Ansatze, QFTs, Arithmetic - into a broadly useful circuit-library as flexible QuantumCircuit objects with enhanced features._\n",
    "\n",
    "#### New Concepts in the Circuit Library\n",
    "* Circuit Blueprints: Enhanced QuantumCircuit objects which are lazily populated and constructed, but print and interact as bona-fide circuits.\n",
    "    * Not a new class, simply subclasses of QuantumCircuit which match the QuantumCircuit interface\n",
    "    * Users generally shouldn't notice the difference, unless digging into circuit guts in debugging\n",
    "    * Properties such as `.data`, `.parameters`, etc. which require real circuits, trigger construction and caching of constructed circuit\n",
    "    * Meta-parameters, such as ansatz depth or connectivity, are mutable and edited lightly due to lazy construction. Setters trigger cached circuit wipe\n",
    "* Circuit Families\n",
    "    * Collections of circuit blueprints or prebuilt circuits with extensions or use-case specific features - e.g. `PermutationCircuit`s can include properties which `ArithmeticCircuit`s do not.\n",
    "    * Allow for more aggressive convenience functionality for specific use cases e.g. Ansatz automatically allocating parameters during construction."
   ]
  },
  {
   "cell_type": "markdown",
   "metadata": {},
   "source": [
    "#### Options for placement\n",
    "1.   Inside Terra, with integration tests\n",
    "1.   Inside Aqua, with Qiskit-wide utility, no Aqua concepts\n",
    "1.   In its own repo"
   ]
  },
  {
   "cell_type": "markdown",
   "metadata": {},
   "source": [
    "#### Options for circuit organization\n",
    "1. By purpose - Organization followed by Aqua\n",
    "    1. data_preparation\n",
    "        1. feature_maps\n",
    "        1. probability_distributions\n",
    "    1. Ansatze\n",
    "        1. TwoLocalCircuit\n",
    "        1. NLocalCircuit\n",
    "        1. Ry\n",
    "        1. RyRz\n",
    "        1. SwapRz\n",
    "        1. UCCSD? QAOA? TASP? (would be complicated without certain Operator work, or restricted to one simulation algorithm with Paulis only).\n",
    "    1. Arithmetic\n",
    "        1. Adders\n",
    "        1. Reciprocal\n",
    "    1. basis_changes\n",
    "        1. QFT\n",
    "        1. QWT\n",
    "        1. DCT\n",
    "        1. Pauli CoB\n",
    "    1. Oracle\n",
    "        1. Truth table\n",
    "        1. Logical expression\n",
    "        1. Phase oracle\n",
    "        1. Permutation oracle\n",
    "1. By form factor - Organization followed by internal quantum-circuits repo\n",
    "    1. Random uniform\n",
    "    1. Hardware efficient\n",
    "    1. Near-Clifford / graph states\n",
    "    1. Quantum volume\n",
    "    1. Quantum Fourier transform\n",
    "    1. Ideal HLF circuits\n",
    "    1. Hamming weight\n",
    "    1. Hidden shift with bent Boolean functions\n",
    "    1. Multiply-controlled NOT gate\n",
    "    1. IQP circuits\n",
    "    1. Fourier checking\n",
    "1.   Case-by-case\n",
    "    1. Some families are specified by their purpose to be able to add functionality and methods, while other are specified by form factor to meet user expectations. \n",
    "    1. Circuits can act as placeholders (e.g. permutation) to be filled in by a choice of several form factors later. \n",
    "    1. Circuits can also import circuits from other families so both practical and theoretical expectations are met without code duplication.\n",
    "    1. TODO merged structure\n",
    "    \n",
    "_Proposal: HardwareEfficient base class - abstract `target_backend` setter (QFTs, ansatze, etc. can choose how to interpret what to do with hardware and provide specially tailored version)_"
   ]
  },
  {
   "cell_type": "markdown",
   "metadata": {},
   "source": [
    "### Demo 2 - Powerful New QuantumCircuit Objects"
   ]
  },
  {
   "cell_type": "code",
   "execution_count": 8,
   "metadata": {
    "ExecuteTime": {
     "end_time": "2020-03-24T12:50:48.732171Z",
     "start_time": "2020-03-24T12:50:48.728408Z"
    }
   },
   "outputs": [],
   "source": [
    "from chemistry.code.molecule import Molecule\n",
    "from qiskit.chemistry.components.initial_states import HartreeFock\n",
    "from qiskit.aqua.algorithms import VQE\n",
    "# from qiskit.circuit_.library import RyRz\n",
    "\n",
    "from qiskit import BasicAer\n",
    "qasm = BasicAer.get_backend('qasm_simulator')"
   ]
  },
  {
   "cell_type": "code",
   "execution_count": null,
   "metadata": {
    "ExecuteTime": {
     "end_time": "2020-03-24T12:33:41.175669Z",
     "start_time": "2020-03-24T12:33:40.046646Z"
    }
   },
   "outputs": [],
   "source": [
    "hh = Molecule(geometry=[['H', [0., 0., 1.]],\n",
    "                       ['H', [0., 0.45, 1.]],\n",
    "                       ])\n",
    "hamiltonian = hh.get_qubitop_hamiltonian()\n",
    "molecular_wf = HartreeFock(hh) + RyRz(depth=3, entanglement='linear')\n",
    "gse = VQE(var_form=molecular_wf, optimizer=SLSQP, backend=qasm).compute_minimum_eigenvalue(hamiltonian)\n",
    "print(gse)"
   ]
  },
  {
   "cell_type": "code",
   "execution_count": null,
   "metadata": {},
   "outputs": [],
   "source": [
    "molecular_qf.target_backend = IBMQ.get_backend('ibmq_valencia')"
   ]
  },
  {
   "cell_type": "markdown",
   "metadata": {},
   "source": [
    "## 3. QuantumCircuit Usability Improvements\n",
    "\n",
    "Aqua's circuit_constructors have accumulated many powerful features not present in QuantumCircuit. No changes are strictly needed to QuantumCircuit to support the above proposals, but we can promote some of these improvements up to QuantumCircuit base to make these features broadly available.\n",
    "\n",
    "*   Suggested for immediate promotion:\n",
    "    *   Mutable qubit number (delete qubits, or extend circuit) for anonymous register circuits\n",
    "    *   .parameters returns a list instead of a set\n",
    "*   Further opportunities for radical circuit control\n",
    "    *   Lazy parameterization\n",
    "    *   Lazy broadcasting\n",
    "    *   What we’d need to do to implement these two\n",
    "\n",
    "Demo 4 - Interface demo of further opportunities"
   ]
  },
  {
   "cell_type": "code",
   "execution_count": null,
   "metadata": {
    "ExecuteTime": {
     "end_time": "2020-03-25T19:07:01.348720Z",
     "start_time": "2020-03-25T19:07:00.390514Z"
    }
   },
   "outputs": [],
   "source": [
    "# Working notes - Captures new features but doesn't highlight them exactly\n",
    "my_c = QuantumCircuit(4)\n",
    "my_c.h(qubits='all')\n",
    "my_c.cu3(qubits='full', theta=.5) # other two parameters are set to be parameterized under the hood\n",
    "my_c.h(qubits='all')\n",
    "my_c.rz(qubits='all', phi=Parameter('theta')) # Sets the same parameter for all of them"
   ]
  }
 ],
 "metadata": {
  "celltoolbar": "Slideshow",
  "kernelspec": {
   "display_name": "code",
   "language": "python",
   "name": "code"
  },
  "language_info": {
   "codemirror_mode": {
    "name": "ipython",
    "version": 3
   },
   "file_extension": ".py",
   "mimetype": "text/x-python",
   "name": "python",
   "nbconvert_exporter": "python",
   "pygments_lexer": "ipython3",
   "version": "3.7.4"
  },
  "toc": {
   "base_numbering": 1,
   "nav_menu": {},
   "number_sections": false,
   "sideBar": true,
   "skip_h1_title": true,
   "title_cell": "Table of Contents",
   "title_sidebar": "Contents",
   "toc_cell": false,
   "toc_position": {},
   "toc_section_display": true,
   "toc_window_display": false
  }
 },
 "nbformat": 4,
 "nbformat_minor": 2
}
