{
 "cells": [
  {
   "cell_type": "markdown",
   "metadata": {},
   "source": [
    "# Aqua Circuit Interoperability Update\n",
    "\n",
    "_Donny Greenberg, Julien Gacon, Ali Javadi, Steve Wood, 24-Mar-19_"
   ]
  },
  {
   "cell_type": "markdown",
   "metadata": {},
   "source": [
    "## Basic Vision & End Goal\n",
    "\n",
    "* Make Aqua use circuits as a first-class currency, and feel more like an algorithms library _next to_ Terra, as users expect, rather than an independent library on top of it\n",
    "    * No more `construct_circuit()` wrappers in Aqua\n",
    "* Promote Aqua’s best circuity features into Terra to be broadly useful"
   ]
  },
  {
   "cell_type": "markdown",
   "metadata": {},
   "source": [
    "## Proposal - Three steps\n",
    "\n",
    "1. Circuit as a First-class Citizen in Aqua\n",
    "    1. Aqua algorithms accept circuits directly, no more circuit wrappers\n",
    "1. Circuit Library with Enhanced QuantumCircuit Families and Convenient Prebuilts\n",
    "    1. Destination for most of Aqua's enhanced circuit wrappers\n",
    "    1. Critically, allows for lazily constructed circuit placeholders.\n",
    "1. Usability Improvements to Promote up to QuantumCircuit\n",
    "    1. Make circuit construction in Terra more powerful with features in Aqua users like"
   ]
  },
  {
   "cell_type": "markdown",
   "metadata": {},
   "source": [
    "## 1. Circuit as a First-class Citizen in Aqua\n",
    "\n",
    "* Anywhere previously calling `construct_circuit` now accepts circuits as-is, no questions asked\n",
    "* Typehints ask for a circuit, and are indifferent whether a circuit is from the circuit library (below)\n",
    "* Fully backwards compatible with Aqua's `construct_circuit`-based objects as long as we like\n",
    "* Maybe warnings where behavior is strange, e.g. no parameters in VQE ansatz"
   ]
  },
  {
   "cell_type": "markdown",
   "metadata": {},
   "source": [
    "### Demo - VQC with newly built circuits\n",
    "\n",
    "Below, we demonstrate the execution of the Variational Quantum Classifier using no special circuit construction objects."
   ]
  },
  {
   "cell_type": "code",
   "execution_count": 3,
   "metadata": {
    "ExecuteTime": {
     "end_time": "2020-03-25T19:14:58.624901Z",
     "start_time": "2020-03-25T19:14:58.622010Z"
    }
   },
   "outputs": [],
   "source": [
    "from qiskit import QuantumCircuit\n",
    "from qiskit.circuit import ParameterVector\n",
    "from qiskit.aqua.algorithms import VQC\n",
    "from qiskit.aqua.components.optimizers import SLSQP\n",
    "\n",
    "import numpy as np\n",
    "import itertools"
   ]
  },
  {
   "cell_type": "code",
   "execution_count": 4,
   "metadata": {
    "ExecuteTime": {
     "end_time": "2020-03-25T19:14:59.784553Z",
     "start_time": "2020-03-25T19:14:59.779054Z"
    }
   },
   "outputs": [
    {
     "name": "stdout",
     "output_type": "stream",
     "text": [
      "{1: [1.0, 0.0, 0.0], 2: [0.0, 1.0, 0.0], 3: [0.0, 0.0, 1.0]}\n"
     ]
    }
   ],
   "source": [
    "# Learning the one-hot encoding\n",
    "train_feats = np.eye(3).tolist()\n",
    "train_labels = [1,2,3]\n",
    "train = dict(zip(train_labels, train_feats))\n",
    "print(train)"
   ]
  },
  {
   "cell_type": "code",
   "execution_count": 5,
   "metadata": {
    "ExecuteTime": {
     "end_time": "2020-03-25T19:16:12.946876Z",
     "start_time": "2020-03-25T19:16:12.263499Z"
    }
   },
   "outputs": [
    {
     "data": {
      "image/png": "[encoded data removed]",
      "text/plain": [
       "<Figure size 1261.79x204.68 with 1 Axes>"
      ]
     },
     "execution_count": 5,
     "metadata": {},
     "output_type": "execute_result"
    }
   ],
   "source": [
    "feat_params = ParameterVector('ɸ', length=len(train_feats[0]))\n",
    "feat_map = QuantumCircuit(3)\n",
    "depth = 3\n",
    "for _ in range(depth):\n",
    "    feat_map.h(qubit=range(3))\n",
    "    [feat_map.rz(phi=p, qubit=i) for i, p in enumerate(feat_params)]\n",
    "    [feat_map.crz(theta=p1*p2, control_qubit=q1, target_qubit=q2) \n",
    "         for ((q1, p1), (q2,p2)) in itertools.combinations(enumerate(feat_params), 2)]\n",
    "    feat_map.barrier()\n",
    "feat_map.draw(output='mpl')"
   ]
  },
  {
   "cell_type": "code",
   "execution_count": 6,
   "metadata": {
    "ExecuteTime": {
     "end_time": "2020-03-25T19:16:28.140590Z",
     "start_time": "2020-03-25T19:16:27.823013Z"
    }
   },
   "outputs": [
    {
     "data": {
      "image/png": "[encoded data removed]",
      "text/plain": [
       "<Figure size 1081.19x204.68 with 1 Axes>"
      ]
     },
     "execution_count": 6,
     "metadata": {},
     "output_type": "execute_result"
    }
   ],
   "source": [
    "# Note: I need to calculate this number\n",
    "classifier_params = ParameterVector('θ', length=19)\n",
    "classifier = QuantumCircuit(3)\n",
    "depth = 3\n",
    "cp_iter = iter(classifier_params)\n",
    "next(cp_iter)\n",
    "for _ in range(depth):\n",
    "    [classifier.ry(theta=next(cp_iter), qubit=j) for j in classifier.qubits]\n",
    "    [classifier.crx(theta=next(cp_iter), control_qubit=q1, target_qubit=q2) \n",
    "         for (q1, q2) in itertools.combinations(classifier.qubits, 2)]\n",
    "    classifier.barrier()\n",
    "classifier.draw(output='mpl')"
   ]
  },
  {
   "cell_type": "code",
   "execution_count": null,
   "metadata": {
    "ExecuteTime": {
     "end_time": "2020-03-24T12:08:23.904679Z",
     "start_time": "2020-03-24T12:08:23.880976Z"
    },
    "scrolled": true
   },
   "outputs": [],
   "source": [
    "vqc = VQC(optimizer=SLSQP(), \n",
    "          data_circuit=feat_map, \n",
    "          classifier_circuit=classifier, \n",
    "          training_dataset=train, \n",
    "          test_dataset=train)\n",
    "vqc.run()"
   ]
  },
  {
   "cell_type": "markdown",
   "metadata": {},
   "source": [
    "## 2. Circuit Library with Enhanced Flexibility Circuits and Convenient Prebuilts\n",
    "\n",
    "_Proposal: Move Aqua's circuit-constructor objects - e.g. Ansatze, QFTs, Arithmetic - into a broadly useful circuit-library as flexible QuantumCircuit objects with enhanced features._\n",
    "\n",
    "#### New Concepts in the Circuit Library\n",
    "* Circuit Blueprints: Enhanced QuantumCircuit objects which are lazily populated and constructed, but print and interact as bona-fide circuits.\n",
    "    * Not a new class, simply subclasses of QuantumCircuit which match the QuantumCircuit interface\n",
    "    * Users generally shouldn't notice the difference, unless digging into circuit guts in debugging\n",
    "    * Properties such as `.data`, `.parameters`, etc. which require real circuits, trigger construction and caching of constructed circuit\n",
    "    * Meta-parameters, such as ansatz depth or connectivity, are mutable and edited lightly due to lazy construction. Setters trigger cached circuit wipe\n",
    "* Circuit Families\n",
    "    * Collections of circuit blueprints or prebuilt circuits with extensions or use-case specific features - e.g. `PermutationCircuit`s can include properties which `ArithmeticCircuit`s do not.\n",
    "    * Allow for more aggressive convenience functionality for specific use cases e.g. Ansatz automatically allocating parameters during construction."
   ]
  },
  {
   "cell_type": "markdown",
   "metadata": {},
   "source": [
    "#### Options for Circuit Library Placement\n",
    "1.   Inside Terra, with integration tests\n",
    "    1. Pros - Consistent with user expectations that Terra contains circuit building blocks\n",
    "    1. Cons - Unlike other areas, Terra has many directories in the base qiskit level, include `qiskit/circuit/`. The library could not clearly be a `circuits` directory alongside Terra, but would likely be hidden inside `qiskit/circuit/library/`. May complicate Aqua development, requiring frequent multi-repo PRs and exactly synced releases.\n",
    "1.   Inside Aqua, with Qiskit-wide utility, no Aqua concepts\n",
    "    1. Pros - Can be placed in a `qiskit/circuit_library` directory alongside `qiskit/aqua`, giving clear delineation as an important library of circuits. \n",
    "    1. Cons - Users may not expect to find this in Aqua, and distinction between \"complicated Terra gate\" (e.g. MCT) and \"simple library circuit\" would make keeping these so far apart strange.\n",
    "1.   In its own repo\n",
    "    1. Pros - Clear importance and delineation.\n",
    "    1. Cons - Another repo."
   ]
  },
  {
   "cell_type": "markdown",
   "metadata": {},
   "source": [
    "#### Options for Circuit Family Organization\n",
    "The circuit library is still a work in progress. In each of the below options, we can make all of the circuits importable from the base init, allowing us to iterate on the directory organization without breaking changes to circuit usage. This way, we can ensure that the circuits are in the correct location in Qiskit for Aqua to begin using them, rather than wait for the library to be complete, and then execute a breaking change to merge in Aqua's circuits. \n",
    "\n",
    "1. **Organize By Circuit Purposes**\n",
    "    1. Data Preparation Circuits\n",
    "        1. Data Feature Maps\n",
    "        1. Probability Distributions\n",
    "    1. NLocal Circuits (name pending - needs to reflect purpose and availability of Optimization-specific features and properties, such as optimization_bounds and auto-parameterization).\n",
    "        1. TwoLocalCircuit\n",
    "        1. NLocalCircuit\n",
    "        1. Ry, RyRz, SwapRz\n",
    "    1. Arithmetic Circuits\n",
    "        1. Adders\n",
    "        1. Reciprocals\n",
    "        1. MCTs\n",
    "        1. Hamming weight\n",
    "    1. Basis Change Circuits\n",
    "        1. QFTs\n",
    "            1. QFT Placeholder/Base\n",
    "            1. QFT circuits\n",
    "        1. QWT Circuits\n",
    "        1. DCT Circuits\n",
    "        1. Pauli Basis Change\n",
    "    1. Oracle Circuits\n",
    "        1. Truth table\n",
    "        1. Logical expression\n",
    "        1. Phase oracle\n",
    "        1. Permutation oracle\n",
    "    1. Function Testing Circuits\n",
    "        1. Fourier Checking\n",
    "        1. Hidden shift with Bent Boolean functions\n",
    "        1. Ideal Hidden Linear Function circuits\n",
    "    1. Benchmarking\n",
    "        1. Near-Clifford / graph states\n",
    "        1. Random uniform\n",
    "        1. Quantum Volume\n",
    "        1. CNOT Dihedral (from Ignis)\n",
    "\n",
    "1. **Organize By Circuit Form Factors** - Organization followed by internal quantum-circuits repo. Methodology is organization by the subcircuits and organization of the circuits themselves.\n",
    "    1. Random uniform\n",
    "    1. NLocal Circuits\n",
    "        1. NLocal, TwoLocal, Ry, RyRz, SwapRz\n",
    "        1. Linear rotation\n",
    "    1. Near-Clifford / graph states\n",
    "        1. Pauli Basis Change\n",
    "    1. Quantum volume\n",
    "    1. Quantum Fourier transform\n",
    "    1. Ideal HLF circuits\n",
    "    1. Hamming weight\n",
    "    1. Hidden shift with bent Boolean functions\n",
    "    1. Multiply-controlled NOT gate\n",
    "    1. IQP circuits\n",
    "    1. Fourier checking\n",
    "    1. Unresolved - It's unclear into which families the following circuits fall in the above grouping:\n",
    "        1. Artimetic\n",
    "            1. QFT vs. CNOT based adders\n",
    "            1. Cutoff vs. long-division based reciprocals\n",
    "        1. Oracle circuits\n",
    "        1. Data Feature Maps\n",
    "            1. Broader than forrelation by accepting different paulis to evolve, rather than just Z^n, but also each only half of a forrelation circuit\n",
    "            1. Can be other classes of hard circuits, not only forrelation-based\n",
    "\n",
    "1.   **Some Purpose, Some Complexity Families** - Allow both circuit purpose families and circuit form-factor families, allowing for custom enhancements or functionality in either family type. Circuits can act as placeholders (e.g. permutation) to be filled in by a choice of several synthesis implementations later. Circuits can also import circuits from other families so both practical and theoretical expectations are met without code duplication.\n",
    "    1. Data Preparation Circuits\n",
    "        1. Data Feature Maps\n",
    "        1. Probability Distributions\n",
    "    1. Arithmetic Circuits\n",
    "    1. Basis Change Circuits\n",
    "        1. Quantum Fourier Transform Circuits\n",
    "    1. Oracle Circuits\n",
    "    1. N Local Circuits\n",
    "        1. NLocal, TwoLocal, Ry, RyRz, SwapRz\n",
    "    1. Near-Clifford / Graph State Circuits\n",
    "    1. Quantum Volume Circuits\n",
    "    1. Ideal Hidden Linear Function Circuits\n",
    "    1. Hamming Weight Circuits\n",
    "    1. Hidden Shift with Bent Boolean Function Circuits\n",
    "    1. Multiply-controlled NOT Gate Circuits\n",
    "    1. IQP Circuits\n",
    "    1. Fourier Checking Circuits\n",
    "  \n",
    "1. **Two Subdirectories** - One corresponding to circuit purpose families, one corresponding to circuit complexity families. All circuits can be imported from `qiskit.circuit.library` so organization is aesthetic.\n",
    "    1. Circuit Purpose Families\n",
    "        1. Data Preparation Circuits\n",
    "            1. Data feature maps\n",
    "            1. probability_distributions\n",
    "        1. NLocal Circuits\n",
    "            1. TwoLocalCircuit, NLocalCircuit, Ry, RyRz, SwapRz\n",
    "        1. Arithmetic Circuits\n",
    "        1. Basis Change Circuits\n",
    "            1. QFT, QWT, DCT\n",
    "            1. Pauli Basis Change\n",
    "        1. Oracle Circuits - Truth table, Logical expression, Phase oracle, Permutation oracle\n",
    "    1. Circuit Complexity Families\n",
    "        1. Random uniform\n",
    "        1. Hardware efficient\n",
    "        1. Near-Clifford / graph states\n",
    "        1. Quantum volume\n",
    "        1. Quantum Fourier transform\n",
    "        1. Ideal HLF circuits\n",
    "        1. Hamming weight\n",
    "        1. Hidden shift with bent Boolean functions\n",
    "        1. Multiply-controlled NOT gate\n",
    "        1. IQP circuits\n",
    "        1. Fourier checking\n",
    "    \n",
    "_Additional Proposal: HardwareEfficient base class - abstract `target_backend` setter (QFTs, adders, NLocal, etc. can choose how to interpret what to do with backend information and provide specially tailored circuits for hardware which are not available by transpilation alone.)_"
   ]
  },
  {
   "cell_type": "markdown",
   "metadata": {},
   "source": [
    "##### Organization Recommendation: Option 1 or 3\n",
    "Option 1 or 3 introduces the most broadly useful organization to both the algorithms and complexity theory users, attempting to align with both of their expectations for circuit placement. They provide the greatest chance of mutual exclusivity in families, allowing families to be grouped in whichever way most naturally delineates them from the other circuit families based on industry conventions (rather than attempt at some form of objective delineation, which is unlikely to be future-proof). Minimizing ambiguities is a worthwhile long-term investment when this library could reasonably grow to hundreds of classes.\n",
    "\n",
    "We recommend beginning with Option 1 _quietly_ to be able to migrate the circuits out of Aqua, and reorganize within the library as it is formally built out and new circuit families are added. This is functionally identical to Option 3, as the form-factor circuit families are not yet ready to be pushed to the library, and will need to be merged as a separate step. This will also allow for more time and deliberation about this complex organization question. Allowing all circuits to be imported from the base circuit library directory prevents the impending reorganizations from introducing breaking changes."
   ]
  },
  {
   "cell_type": "markdown",
   "metadata": {},
   "source": [
    "### Demo 2 - Powerful New QuantumCircuit Objects"
   ]
  },
  {
   "cell_type": "code",
   "execution_count": 8,
   "metadata": {
    "ExecuteTime": {
     "end_time": "2020-03-24T12:50:48.732171Z",
     "start_time": "2020-03-24T12:50:48.728408Z"
    }
   },
   "outputs": [],
   "source": [
    "from chemistry.code.molecule import Molecule\n",
    "from qiskit.chemistry.components.initial_states import HartreeFock\n",
    "from qiskit.aqua.algorithms import VQE\n",
    "# from qiskit.circuit_.library import RyRz\n",
    "\n",
    "from qiskit import BasicAer\n",
    "qasm = BasicAer.get_backend('qasm_simulator')"
   ]
  },
  {
   "cell_type": "code",
   "execution_count": null,
   "metadata": {
    "ExecuteTime": {
     "end_time": "2020-03-24T12:33:41.175669Z",
     "start_time": "2020-03-24T12:33:40.046646Z"
    }
   },
   "outputs": [],
   "source": [
    "hh = Molecule(geometry=[['H', [0., 0., 1.]],\n",
    "                       ['H', [0., 0.45, 1.]],\n",
    "                       ])\n",
    "hamiltonian = hh.get_qubitop_hamiltonian()\n",
    "molecular_wf = HartreeFock(hh) + RyRz(depth=3, entanglement='linear')\n",
    "gse = VQE(wf_ansatz=molecular_wf, optimizer=SLSQP, backend=qasm).compute_minimum_eigenvalue(hamiltonian)\n",
    "print(gse)"
   ]
  },
  {
   "cell_type": "code",
   "execution_count": null,
   "metadata": {},
   "outputs": [],
   "source": [
    "molecular_qf.target_backend = IBMQ.get_backend('ibmq_valencia')"
   ]
  },
  {
   "cell_type": "markdown",
   "metadata": {},
   "source": [
    "## 3. QuantumCircuit Usability Improvements\n",
    "\n",
    "Aqua's circuit_constructors have accumulated many powerful features not present in QuantumCircuit. No changes are strictly needed to QuantumCircuit to support the above proposals, but we can promote some of these improvements up to QuantumCircuit base to make these features broadly available.\n",
    "\n",
    "*   Suggested for immediate promotion:\n",
    "    *   Mutable qubit number (delete qubits, or extend circuit) for anonymous register circuits\n",
    "    *   `.parameters` returns a list instead of a set, as parameter randomization is inconvenient\n",
    "*   Further opportunities for radical circuit control\n",
    "    *   Lazy parameterization - When no parameter is specified in a parameterized standard gate, create a new one for the user. We can do this lazily, and only create the full list when `.parameters` is called, in which case the list is \"locked in.\"\n",
    "    *   Lazy broadcasting - Similar to the NLocal Circuits. Allow the user to specify groups of qubits to which to apply a gate in circuit construction, but only construct these duplicates when the circuit data is actually needed. Allow users to manipulate these gate applications.\n",
    "    *   What we’d need to do to implement these two\n",
    "\n",
    "Demo 4 - Interface demo of further opportunities"
   ]
  },
  {
   "cell_type": "code",
   "execution_count": null,
   "metadata": {
    "ExecuteTime": {
     "end_time": "2020-03-25T19:07:01.348720Z",
     "start_time": "2020-03-25T19:07:00.390514Z"
    }
   },
   "outputs": [],
   "source": [
    "# Working notes - Captures new features but doesn't highlight them exactly\n",
    "my_c = QuantumCircuit(4)\n",
    "my_c.h(qubits='all')\n",
    "my_c.cu3(qubits='full', theta=.5) # other two parameters are set to be parameterized under the hood\n",
    "my_c.h(qubits='all')\n",
    "my_c.rz(qubits='all', phi=Parameter('theta')) # Sets the same parameter for all of them"
   ]
  }
 ],
 "metadata": {
  "celltoolbar": "Slideshow",
  "kernelspec": {
   "display_name": "code",
   "language": "python",
   "name": "code"
  },
  "language_info": {
   "codemirror_mode": {
    "name": "ipython",
    "version": 3
   },
   "file_extension": ".py",
   "mimetype": "text/x-python",
   "name": "python",
   "nbconvert_exporter": "python",
   "pygments_lexer": "ipython3",
   "version": "3.7.4"
  },
  "toc": {
   "base_numbering": 1,
   "nav_menu": {},
   "number_sections": false,
   "sideBar": true,
   "skip_h1_title": true,
   "title_cell": "Table of Contents",
   "title_sidebar": "Contents",
   "toc_cell": false,
   "toc_position": {},
   "toc_section_display": true,
   "toc_window_display": false
  }
 },
 "nbformat": 4,
 "nbformat_minor": 2
}
