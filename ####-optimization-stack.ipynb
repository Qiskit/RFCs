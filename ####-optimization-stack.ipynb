{
 "cells": [
  {
   "cell_type": "markdown",
   "metadata": {},
   "source": [
    "# Aqua 0.7:Quantum Optimization Design Doc"
   ]
  },
  {
   "cell_type": "markdown",
   "execution_count": null,
   "metadata": {},
   "outputs": [],
   "source": [
    "| **Status**        | **Proposed** |\n",
    "|:------------------|:---------------------------------------------|\n",
    "| **RFC #**         | ####                                         |\n",
    "| **Authors**       | Stefan Woerner (wor@zurich.ibm.com)          |\n",
    "|                   | Julien Gacon (jul@zurich.ibm.com)            |\n",
    "| **Submitted**     | 2020-01-30                                   |\n",
    "| **Updated**       | YYYY-MM-DD                                   |"
   ]
  },
  {
   "cell_type": "markdown",
   "metadata": {},
   "source": [
    "# Motivation"
   ]
  },
  {
   "cell_type": "markdown",
   "metadata": {},
   "source": [
    "### Current Situation\n",
    "\n",
    "#### Current restriction to QUBOs\n",
    "Currently, Qiskit only supports Quadratic Unconstrained Binary Optimization (QUBO) problems.\n",
    "QUBOs can be mapped to an equivalent operator ground state problem.\n",
    "The corresponding algorithms available in Qiskit (VQE / QAOA) expect an 'Operator' in the constructor that specifies the problem to be solved.\n",
    "\n",
    "For some problem classes (e.g. TSP, MaxCut, Portfolio, ...), Qiskit provides dedicated translators that take problem parameters and return the corresponding operator.\n",
    "In addition, a more general translator from a `docplex.mp.model.Model` to an `Operator` is available.\n",
    "\n",
    "In principle, `docplex.mp.model.Model` can represent more general types of (quadratic) optimization problems, but since the available algorithms require an `Operator` as input, we are again limited to QUBOs.\n",
    "\n",
    "#### Missing model flexibility for advanced algorithms\n",
    "\n",
    "In addition, `docplex.mp.model.Model` models are very convenient to formulate a problem, but not flexible at all once this is done.\n",
    "E.g., it is not possible to substitute particular variables by given values and return a smaller optimization problem, which is a very important functionality for many of our more advanced algorithms (e.g. ADMM, RQAOA, Slack-MBO).\n",
    "\n",
    "\n",
    "### Creating a modular and flexible optimization stack\n",
    "\n",
    "Our goal is to increase flexibility and modularity of optimization problems and algorithms.\n",
    "This requries a unified `OptimizationProblem` representation that satisfies the following criteria:\n",
    "\n",
    "- Easy and intuitive developement of complex optimization problems using a high-level modelling language (e.g. docplex)\n",
    "- Flexible and easy to modify problem representation (e.g. substituting variables, coefficients, etc.)\n",
    "- Efficient scaling to large problems\n",
    "- Generic representation to cover a large set of problem classes\n",
    "\n",
    "Furthermore, we want all `OptimizationAlgorithms` to implement the same interface, i.e., accept an `OptimizationProblem` and return (an extension of) a generic `Solution`.\n",
    "An algorithm should throw an exception if it is given an unsupported `OptimizationProblem` (common practise in classical optimization)."
   ]
  },
  {
   "cell_type": "markdown",
   "metadata": {},
   "source": [
    "# Proposal & Possible implementations\n",
    "\n",
    "In the following, we outline the general idea for a modular and flexible optimization stack.\n",
    "This supports quantum (pure & hybrid) but also classical algorithms, and by streamlining the interfaces supports efficient modeling, testing, validation, benchmarking, etc.\n",
    "\n",
    "We suggest to split the stack into three classes, each responsible for a well-defined task:\n",
    "\n",
    "- `OptimizationProblem` for specifying, representing, modifying the problem to be solved\n",
    "- `OptimizationAlgorithm` to find/approximate the optimal solution of an `OptimizationProblem`\n",
    "- `Solution` to return (intermediate) results of an `OptimizationAlgorithm` while trying to solve a `OptimizationProblem`\n"
   ]
  },
  {
   "cell_type": "markdown",
   "metadata": {},
   "source": [
    "### Folder Structure"
   ]
  },
  {
   "cell_type": "markdown",
   "metadata": {},
   "source": [
    "We suggest the following organization for the code:\n",
    "```\n",
    "qiskit/optimization/\n",
    "qiskit/optimization/problems     # contains `OptimizationProblem` and classes used therein\n",
    "qiskit/optimization/solutions    # contains `Solution` and related quality metrics\n",
    "qiskit/optimization/algorithms   # contains `OptimizationAlgorithm` and derived algorithms\n",
    "qiskit/optimization/converters   # contains converters to manipulate given Optimization problems, e.g.,\n",
    "                                 # - mapping integer to binaries variables\n",
    "                                 # - adding linear equality constraints as penalty terms to the objective\n",
    "                                 # - translating a QUBO given as OptimizationProblem to an operator\n",
    "qiskit/optimization/translators  # problem-specific translators, e.g., for\n",
    "                                 # - graph problems (TSP, MaxCut, ...)\n",
    "                                 # - portfolio optimization / diversification\n",
    "qiskit/optimization/utils        # helper classes / methods\n",
    "```"
   ]
  },
  {
   "cell_type": "markdown",
   "metadata": {},
   "source": [
    "### Optimization Problem\n",
    "\n",
    "We limit ourselves to Quadratically Constrained Quadratic Mixed Integer Programs.\n",
    "Although this is a restriction, this is still a very powerful problem class that adopts many relevant applications.\n",
    "Many commercial solvers make this restriction as it enables efficient scaling to larger problems and sufficient structure to be exploited in optimization algorithms.\n",
    "It can also be extended to Semidefinite Programs, which we plan to do at a later stage.\n",
    "Particular problem classes that will eventually be covered are, e.g., QUBO, MIP, LP, SDP.\n",
    "\n",
    "The `OptimizationProblem` should follow the CPLEX interface (https://pypi.org/project/cplex/) and internally represent objective, constraints etc. using (sparse) matrices and vectors and lists thereof.\n",
    "This has the advantage that\n",
    "\n",
    "- it scales efficiently to large problems\n",
    "- we can reuse many existing code written for CPLEX or allows straight-forward conversion (e.g. to convert from docplex/cplex, to use CPLEX as solver for validation/testing/benchmarking)\n",
    "- many people in the optimization community are already familiar with it\n",
    "- the representation using matrices / vectors allows to efficiently substitute variables by constants or other (scaled) variables, which is crucial for developing new algorithms"
   ]
  },
  {
   "cell_type": "markdown",
   "metadata": {},
   "source": [
    "Constructing a problem can then be done, e.g., directly using `OptimizationProblem` (following CPLEX API):"
   ]
  },
  {
   "cell_type": "code",
   "execution_count": null,
   "metadata": {},
   "outputs": [],
   "source": [
    "# initialize problem\n",
    "op = OptimizationProblem()\n",
    "\n",
    "# add variables\n",
    "op.variables.add(names=[\"x0\", \"x1\", \"x2\", \"x3\"], types='B'*4)\n",
    "\n",
    "# set offset\n",
    "op.objective.set_offset(1.0)\n",
    "\n",
    "# set linear terms of objective function (uses names as well as indices)\n",
    "op.objective.set_linear([(\"x0\", 2.0), (1, 0.5)])\n",
    "op.objective.set_linear(\"x2\", -1.0)\n",
    "op.objective.set_linear(3, -1.0)\n",
    "\n",
    "# set quadratic part of objective\n",
    "op.objective.set_quadratic([SparsePair(ind=[0, 1, 2], val=[1.0, -2.0, 0.5]),\n",
    "                            SparsePair(ind=[0, 1, 2], val=[-2.0, -1.0, 1.0]),\n",
    "                            SparsePair(ind=[0, 1, 2], val=[0.5, 1.0, -3.0])])\n",
    "\n",
    "# set objective sense (maximize/minimize)\n",
    "op.objective.set_sense(op.objective.sense.maximize)"
   ]
  },
  {
   "cell_type": "markdown",
   "metadata": {},
   "source": [
    "Alternatively, we can use automatically translating from `cplex.Cplex` or `docplex.mp.model.Model` or back:"
   ]
  },
  {
   "cell_type": "code",
   "execution_count": null,
   "metadata": {},
   "outputs": [],
   "source": [
    "# some code to create docplex / cplex models\n",
    "docplex = [...]\n",
    "cplex = [...]\n",
    "\n",
    "# load from docplex\n",
    "op1 = OptimizationProblem()\n",
    "op1.from_docplex(docplex)\n",
    "\n",
    "# load from cplex\n",
    "op2 = OptimizationProblem()\n",
    "op2.from_cplex(cplex)\n",
    "\n",
    "# convert to docplex / cplex\n",
    "docplex = op1.to_docplex()\n",
    "cplex = op2.to_cplex()"
   ]
  },
  {
   "cell_type": "markdown",
   "metadata": {},
   "source": [
    "### Solution\n",
    "\n",
    "A `Solution` object should contain the following fields (but very likely a lot more, depending on the algorithm):\n",
    "\n",
    "- x (= final solution)\n",
    "- f_mean\n",
    "- f_stddev\n",
    "- best_found_solution\n",
    "- best_bound\n",
    "- num_iters\n",
    "- termination_criterion\n",
    "- history (intermediate results for iterative algorithms)\n",
    "- ...\n",
    "\n",
    "The `Solution` object could be based on the CPLEX Solution class as well (or a subset), to leverage existing conventions. However, this needs to be developed in parallel to the algorithms, as it is difficult to see all possibilities upfront."
   ]
  },
  {
   "cell_type": "markdown",
   "metadata": {},
   "source": [
    "### Optimization Algorithms\n",
    "\n",
    "- `OptimizationAlgorithm` provides a standard interface to solve `OptimizationProblem` (should also accept `cplex.Cplex` and `docplex.mp.model.Model` and cast it internally)  and return a `Solution` object.\n",
    "- Algorithm properties are provided via the initializer or by setting parameters after construction.\n",
    "- Algorithms are usually only compatible with some problem types and should throw a corresponding exception (common behavior of optimization algorithms) in case of facing an unsupported problem.\n",
    "- This covers quantum as well as classical algortihms that can be easily interchanged for testing, validation, or benchmarking, e.g., we want to be able to pass the same problem to a `CplexWrapper`, to `QAOA`, or `GroverAdaptiveSearch`.\n",
    "- Having a standard interface also allows to easily build meta-algorithms that expect one or more different `OptimizationAlgorithm` for a certain problem type as sub-routine (e.g. ADMM or RQAOA)\n",
    "\n",
    "`OptimizationAlgorithm` could be used as follows."
   ]
  },
  {
   "cell_type": "code",
   "execution_count": null,
   "metadata": {},
   "outputs": [],
   "source": [
    "# initialize algorithm with parameters\n",
    "alg = OptimizationAlgorithm(parameters)\n",
    "result = alg.solve(op)"
   ]
  },
  {
   "cell_type": "markdown",
   "metadata": {},
   "source": [
    "Existing algorithms from core Aqua such as VQE can be used as sub-routines in optimization algorithms which provide the required translations, e.g. from optimization problem to operator (VQE/QAOA) or oracles (Grover Adaptive Search), as the following example illustrates. "
   ]
  },
  {
   "cell_type": "code",
   "execution_count": null,
   "metadata": {},
   "outputs": [],
   "source": [
    "class OperatorEigenSolver(OptimizationAlgorithm):\n",
    "\n",
    "    def __init__(self, eigen_solver: MinEigenSolver, ...):\n",
    "        self._eigen_solver = eigen_solver\n",
    "        \n",
    "    def solve(self, op: OptimizationProblem):\n",
    "        operator, offset = translate_problem(op)\n",
    "        eigen_results = self._eigen_solver.solve(operator)\n",
    "        solution = translate_results(min_eigen_results, offset)\n",
    "        return solution"
   ]
  },
  {
   "cell_type": "markdown",
   "metadata": {},
   "source": [
    "An example that illustrates the power of this design is ADMM (https://arxiv.org/abs/2001.02069), which accepts problems consisting of continuous and binary decision variables as well as constraints (plus some assumptions on the structure) and in each iteration decomposes the problem into a convex continuous problem as well as a QUBO. \n",
    "Thus, ADMM requires a solver for convex continuous problems (which may be classical) plus a QUBO solver (which may be quantum).\n",
    "Given the suggested design, we can, for instance, easily use CPLEX, QAOA, or Grover Adaptive Search as QUBO solver and compare their performance or validate the results."
   ]
  },
  {
   "cell_type": "code",
   "execution_count": null,
   "metadata": {},
   "outputs": [],
   "source": [
    "class ADMM(OptimizationAlgorithm):\n",
    "    \n",
    "    def __init__(self, convex_solver: OptimizationAlgorithm, \n",
    "                 qubo_solver: OptimizationAlgorithm, \n",
    "                 ...):\n",
    "        self._convex_solver = convex_solver\n",
    "        self._qubo_solver = qubo_solver\n",
    "        \n",
    "    def solve(self, op: OptimizationProblem):\n",
    "        ...\n",
    "        qubo_result = self._qubo_solver.solve(qubo)\n",
    "        cvx_result = self._convex_solver.solve(cvx)\n",
    "        ..."
   ]
  },
  {
   "cell_type": "code",
   "execution_count": null,
   "metadata": {},
   "outputs": [],
   "source": [
    "# define convex solver\n",
    "convex_solver = ConvexSolver(...)\n",
    "\n",
    "# define QUBO solver\n",
    "rqaoa = RQAOA(...)\n",
    "gas   = GroverAdaptiveSearch(...)\n",
    "cplex = CPLEX(...)\n",
    "\n",
    "# construct different versions of ADMM\n",
    "admm_rqaoa = ADMM(convex_solver, rqaoa, ...)\n",
    "admm_gas   = ADMM(convex_solver, gas, ...\n",
    "admm_cplex = ADMM(convex_solver, cplex, ...)\n",
    "\n",
    "# test different version on problem\n",
    "res_rqaoa = admm_rqaoa.solve(op)\n",
    "res_gas   = admm_gas.solve(op)\n",
    "res_cplex = admm_cplex.solve(op)"
   ]
  }
 ],
 "metadata": {
  "kernelspec": {
   "display_name": "Python 3",
   "language": "python",
   "name": "python3"
  },
  "language_info": {
   "codemirror_mode": {
    "name": "ipython",
    "version": 3
   },
   "file_extension": ".py",
   "mimetype": "text/x-python",
   "name": "python",
   "nbconvert_exporter": "python",
   "pygments_lexer": "ipython3",
   "version": "3.7.1"
  }
 },
 "nbformat": 4,
 "nbformat_minor": 2
}