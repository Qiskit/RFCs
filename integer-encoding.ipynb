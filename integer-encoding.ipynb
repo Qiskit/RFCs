{
 "cells": [
  {
   "cell_type": "markdown",
   "metadata": {},
   "source": [
    "# Integer variable encoding with binary variables\n",
    "\n",
    "| **Status**        | **Proposed** |\n",
    "|:------------------|:---------------------------------------------|\n",
    "| **RFC #**         | ####                                         |\n",
    "| **Authors**       | Takashi Imamichi (imamichi@jp.ibm.com),  ... |\n",
    "| **Deprecates**    | RFC that this RFC deprecates                 |\n",
    "| **Submitted**     | YYYY-MM-DD                                   |\n",
    "| **Updated**       | YYYY-MM-DD                                   |\n",
    "\n",
    "## Summary\n",
    "`OptimizationProblem` \n",
    "\n",
    "## Motivation\n",
    "- Why are we doing this?\n",
    "- What will this enable?\n",
    "- What will be the outcome?\n",
    "- Who will benefit?\n",
    "\n",
    "## User Benefit\n",
    "- Who are the target users of this work?\n",
    "- How will users or contributors benefit from the work proposed?"
   ]
  },
  {
   "cell_type": "code",
   "execution_count": 1,
   "metadata": {},
   "outputs": [],
   "source": [
    "from cplex import Cplex as OptimizationProblem\n",
    "from cplex import SparsePair"
   ]
  },
  {
   "cell_type": "code",
   "execution_count": 5,
   "metadata": {},
   "outputs": [
    {
     "name": "stdout",
     "output_type": "stream",
     "text": [
      "Version identifier: 12.10.0.0 | 2019-11-27 | 843d4de\n",
      "CPXPARAM_Read_DataCheck                          1\n",
      "Tried aggregator 1 time.\n",
      "MIP Presolve eliminated 3 rows and 4 columns.\n",
      "MIP Presolve modified 3 coefficients.\n",
      "All rows and columns eliminated.\n",
      "Presolve time = 0.02 sec. (0.00 ticks)\n",
      "\n",
      "Root node processing (before b&c):\n",
      "  Real time             =    0.03 sec. (0.00 ticks)\n",
      "Parallel b&c, 4 threads:\n",
      "  Real time             =    0.00 sec. (0.00 ticks)\n",
      "  Sync time (average)   =    0.00 sec.\n",
      "  Wait time (average)   =    0.00 sec.\n",
      "                          ------------\n",
      "Total (root+branch&cut) =    0.03 sec. (0.00 ticks)\n"
     ]
    }
   ],
   "source": [
    "# initialize problem\n",
    "op = OptimizationProblem()\n",
    "\n",
    "# add variables\n",
    "op.variables.add(names=[\"x0\", \"x1\"], types='B'*2)\n",
    "op.variables.add(names=[\"x2\", \"x3\"], types='I'*2, lb=[0]*2, ub=[10]*2)\n",
    "\n",
    "# set offset\n",
    "op.objective.set_offset(1.0)\n",
    "\n",
    "# set linear terms of objective function (uses names as well as indices)\n",
    "op.objective.set_linear([(\"x0\", 1.0), (\"x1\", 2.0), (\"x2\", 0.1), (\"x3\", -1.0)])\n",
    "\n",
    "# set objective sense (maximize/minimize)\n",
    "op.objective.set_sense(op.objective.sense.maximize)\n",
    "\n",
    "# set linear constraints\n",
    "op.linear_constraints.add(\n",
    "    lin_expr=[         \n",
    "        SparsePair(ind=[\"x0\", \"x2\"], val=[4.0, 1.0]),\n",
    "        SparsePair(ind=[\"x1\", \"x3\"], val=[1.0, 2.0]),\n",
    "        SparsePair(ind=[\"x0\", \"x1\"], val=[2.0, -3.0]),\n",
    "    ],\n",
    "    senses = [\"E\", \"E\", \"L\"],\n",
    "    rhs = [5.0, 6.0, 1.0],   \n",
    "    names=[\"c0\", \"c1\", \"c2\"]\n",
    ")\n",
    "op.solve()"
   ]
  },
  {
   "cell_type": "code",
   "execution_count": 8,
   "metadata": {},
   "outputs": [
    {
     "data": {
      "text/plain": [
       "[0.0, 0.0, 5.0, 3.0]"
      ]
     },
     "execution_count": 8,
     "metadata": {},
     "output_type": "execute_result"
    }
   ],
   "source": [
    "op.solution.get_values()"
   ]
  },
  {
   "cell_type": "code",
   "execution_count": null,
   "metadata": {},
   "outputs": [],
   "source": []
  }
 ],
 "metadata": {
  "kernelspec": {
   "display_name": "Python 3",
   "language": "python",
   "name": "python3"
  },
  "language_info": {
   "codemirror_mode": {
    "name": "ipython",
    "version": 3
   },
   "file_extension": ".py",
   "mimetype": "text/x-python",
   "name": "python",
   "nbconvert_exporter": "python",
   "pygments_lexer": "ipython3",
   "version": "3.7.6"
  }
 },
 "nbformat": 4,
 "nbformat_minor": 4
}
